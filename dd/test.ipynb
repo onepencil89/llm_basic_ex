{
 "cells": [
  {
   "cell_type": "code",
   "execution_count": null,
   "id": "3c30399a",
   "metadata": {},
   "outputs": [
    {
     "ename": "FileNotFoundError",
     "evalue": "[Errno 2] No such file or directory: 'dd\\\\AC0A9617.jpg'",
     "output_type": "error",
     "traceback": [
      "\u001b[1;31m---------------------------------------------------------------------------\u001b[0m",
      "\u001b[1;31mFileNotFoundError\u001b[0m                         Traceback (most recent call last)",
      "Cell \u001b[1;32mIn[2], line 49\u001b[0m\n\u001b[0;32m     47\u001b[0m \u001b[38;5;66;03m# 📍 실행 예시\u001b[39;00m\n\u001b[0;32m     48\u001b[0m image_path \u001b[38;5;241m=\u001b[39m \u001b[38;5;124m\"\u001b[39m\u001b[38;5;124mdd\u001b[39m\u001b[38;5;124m\\\u001b[39m\u001b[38;5;124mAC0A9617.jpg\u001b[39m\u001b[38;5;124m\"\u001b[39m   \u001b[38;5;66;03m# 분석할 사진 파일 경로\u001b[39;00m\n\u001b[1;32m---> 49\u001b[0m exif \u001b[38;5;241m=\u001b[39m \u001b[43mget_exif_data\u001b[49m\u001b[43m(\u001b[49m\u001b[43mimage_path\u001b[49m\u001b[43m)\u001b[49m\n\u001b[0;32m     50\u001b[0m gps \u001b[38;5;241m=\u001b[39m get_gps_info(exif)\n\u001b[0;32m     52\u001b[0m \u001b[38;5;28mprint\u001b[39m(\u001b[38;5;124m\"\u001b[39m\u001b[38;5;124m촬영기기:\u001b[39m\u001b[38;5;124m\"\u001b[39m, exif\u001b[38;5;241m.\u001b[39mget(\u001b[38;5;124m\"\u001b[39m\u001b[38;5;124mModel\u001b[39m\u001b[38;5;124m\"\u001b[39m))\n",
      "Cell \u001b[1;32mIn[2], line 6\u001b[0m, in \u001b[0;36mget_exif_data\u001b[1;34m(image_path)\u001b[0m\n\u001b[0;32m      4\u001b[0m \u001b[38;5;28;01mdef\u001b[39;00m\u001b[38;5;250m \u001b[39m\u001b[38;5;21mget_exif_data\u001b[39m(image_path):\n\u001b[0;32m      5\u001b[0m \u001b[38;5;250m    \u001b[39m\u001b[38;5;124;03m\"\"\"사진의 EXIF 메타데이터 추출\"\"\"\u001b[39;00m\n\u001b[1;32m----> 6\u001b[0m     image \u001b[38;5;241m=\u001b[39m \u001b[43mImage\u001b[49m\u001b[38;5;241;43m.\u001b[39;49m\u001b[43mopen\u001b[49m\u001b[43m(\u001b[49m\u001b[43mimage_path\u001b[49m\u001b[43m)\u001b[49m\n\u001b[0;32m      7\u001b[0m     exif_data \u001b[38;5;241m=\u001b[39m {}\n\u001b[0;32m      9\u001b[0m     \u001b[38;5;66;03m# EXIF 데이터가 존재할 경우\u001b[39;00m\n",
      "File \u001b[1;32mc:\\Users\\Admin\\miniconda3\\envs\\llm_env\\lib\\site-packages\\PIL\\Image.py:3513\u001b[0m, in \u001b[0;36mopen\u001b[1;34m(fp, mode, formats)\u001b[0m\n\u001b[0;32m   3511\u001b[0m \u001b[38;5;28;01mif\u001b[39;00m is_path(fp):\n\u001b[0;32m   3512\u001b[0m     filename \u001b[38;5;241m=\u001b[39m os\u001b[38;5;241m.\u001b[39mfspath(fp)\n\u001b[1;32m-> 3513\u001b[0m     fp \u001b[38;5;241m=\u001b[39m \u001b[43mbuiltins\u001b[49m\u001b[38;5;241;43m.\u001b[39;49m\u001b[43mopen\u001b[49m\u001b[43m(\u001b[49m\u001b[43mfilename\u001b[49m\u001b[43m,\u001b[49m\u001b[43m \u001b[49m\u001b[38;5;124;43m\"\u001b[39;49m\u001b[38;5;124;43mrb\u001b[39;49m\u001b[38;5;124;43m\"\u001b[39;49m\u001b[43m)\u001b[49m\n\u001b[0;32m   3514\u001b[0m     exclusive_fp \u001b[38;5;241m=\u001b[39m \u001b[38;5;28;01mTrue\u001b[39;00m\n\u001b[0;32m   3515\u001b[0m \u001b[38;5;28;01melse\u001b[39;00m:\n",
      "\u001b[1;31mFileNotFoundError\u001b[0m: [Errno 2] No such file or directory: 'dd\\\\AC0A9617.jpg'"
     ]
    }
   ],
   "source": [
    "from PIL import Image\n",
    "from PIL.ExifTags import TAGS, GPSTAGS\n",
    "\n",
    "def get_exif_data(image_path):\n",
    "    \"\"\"사진의 EXIF 메타데이터 추출\"\"\"\n",
    "    image = Image.open(image_path)\n",
    "    exif_data = {}\n",
    "\n",
    "    # EXIF 데이터가 존재할 경우\n",
    "    if hasattr(image, \"_getexif\") and image._getexif():\n",
    "        exif_raw = image._getexif()\n",
    "        for tag, value in exif_raw.items():\n",
    "            decoded = TAGS.get(tag, tag)\n",
    "            exif_data[decoded] = value\n",
    "    return exif_data\n",
    "\n",
    "\n",
    "def get_gps_info(exif_data):\n",
    "    \"\"\"EXIF에서 GPS 정보 추출 및 좌표 변환\"\"\"\n",
    "    gps_info = {}\n",
    "    if \"GPSInfo\" in exif_data:\n",
    "        for key in exif_data[\"GPSInfo\"].keys():\n",
    "            decode = GPSTAGS.get(key, key)\n",
    "            gps_info[decode] = exif_data[\"GPSInfo\"][key]\n",
    "\n",
    "        # 위도, 경도 값 계산 (도,분,초 → 소수점 변환)\n",
    "        def convert_to_degrees(value):\n",
    "            d = value[0][0] / value[0][1]\n",
    "            m = value[1][0] / value[1][1]\n",
    "            s = value[2][0] / value[2][1]\n",
    "            return d + (m / 60.0) + (s / 3600.0)\n",
    "\n",
    "        lat = convert_to_degrees(gps_info[\"GPSLatitude\"])\n",
    "        lon = convert_to_degrees(gps_info[\"GPSLongitude\"])\n",
    "\n",
    "        if gps_info[\"GPSLatitudeRef\"] != \"N\":\n",
    "            lat = -lat\n",
    "        if gps_info[\"GPSLongitudeRef\"] != \"E\":\n",
    "            lon = -lon\n",
    "\n",
    "        gps_info[\"Latitude\"] = lat\n",
    "        gps_info[\"Longitude\"] = lon\n",
    "\n",
    "    return gps_info\n",
    "\n",
    "\n",
    "# 📍 실행 예시\n",
    "image_path = \"dd/AC0A9617.jpg\"   # 분석할 사진 파일 경로\n",
    "exif = get_exif_data(image_path)\n",
    "gps = get_gps_info(exif)\n",
    "\n",
    "print(\"촬영기기:\", exif.get(\"Model\"))\n",
    "print(\"촬영시간:\", exif.get(\"DateTimeOriginal\"))\n",
    "print(\"위도:\", gps.get(\"Latitude\"))\n",
    "print(\"경도:\", gps.get(\"Longitude\"))\n",
    "\n",
    "image_path = \"dd\\AC0A9617.jpg\"   # 분석할 사진 파일 경로\n",
    "exif = get_exif_data(image_path)\n",
    "gps = get_gps_info(exif)\n",
    "\n",
    "print(\"촬영기기:\", exif.get(\"Model\"))\n",
    "print(\"촬영시간:\", exif.get(\"DateTimeOriginal\"))\n",
    "print(\"위도:\", gps.get(\"Latitude\"))\n",
    "print(\"경도:\", gps.get(\"Longitude\"))\n"
   ]
  },
  {
   "cell_type": "code",
   "execution_count": null,
   "id": "813f6e6f",
   "metadata": {},
   "outputs": [],
   "source": []
  }
 ],
 "metadata": {
  "kernelspec": {
   "display_name": "llm_env",
   "language": "python",
   "name": "python3"
  },
  "language_info": {
   "codemirror_mode": {
    "name": "ipython",
    "version": 3
   },
   "file_extension": ".py",
   "mimetype": "text/x-python",
   "name": "python",
   "nbconvert_exporter": "python",
   "pygments_lexer": "ipython3",
   "version": "3.10.19"
  }
 },
 "nbformat": 4,
 "nbformat_minor": 5
}
