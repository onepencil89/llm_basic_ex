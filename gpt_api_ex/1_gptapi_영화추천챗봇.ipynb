{
 "cells": [
  {
   "cell_type": "markdown",
   "id": "8bbe3f6b",
   "metadata": {},
   "source": [
    "# open API key 테스트"
   ]
  },
  {
   "cell_type": "markdown",
   "id": "b71cf711",
   "metadata": {},
   "source": [
    "## API key 로딩"
   ]
  },
  {
   "cell_type": "code",
   "execution_count": 5,
   "id": "64b80859",
   "metadata": {},
   "outputs": [],
   "source": [
    "from dotenv import load_dotenv\n",
    "import os\n",
    "\n",
    "# 환경변수 로딩\n",
    "load_dotenv(override=True)\n",
    "\n",
    "# 메모리에 로딩된 값을 api_key 변수에 대입\n",
    "OPENAI_API_KEY = os.environ.get(\"OPENAI_API_KEY\")\n",
    "# print(api_key)\n",
    "\n",
    "# # OpenAI 객체 생성\n",
    "# client = OpenAI(api_key=OPENAI_API_KEY)"
   ]
  },
  {
   "cell_type": "markdown",
   "id": "4c0c9622",
   "metadata": {},
   "source": [
    "## 라이브러리 로딩 및 객체 생성"
   ]
  },
  {
   "cell_type": "code",
   "execution_count": 6,
   "id": "b4f6641a",
   "metadata": {},
   "outputs": [],
   "source": [
    "# 라이브러리 생성\n",
    "from openai import OpenAI\n",
    "# openai API 인정 및 openAI객체생성\n",
    "client = OpenAI(api_key=OPENAI_API_KEY)"
   ]
  },
  {
   "cell_type": "markdown",
   "id": "d81bf6e5",
   "metadata": {},
   "source": [
    "## 챗봇 기본"
   ]
  },
  {
   "cell_type": "code",
   "execution_count": 35,
   "id": "374ef1a0",
   "metadata": {},
   "outputs": [
    {
     "name": "stdout",
     "output_type": "stream",
     "text": [
      "1. Parasite (기생충)\n",
      "2. The Dark Knight (다크 나이트)\n",
      "3. Inception (인셉션)\n",
      "4. Shawshank Redemption (쇼생크 탈출)\n",
      "5. The Godfather (대부)\n",
      "6. Pulp Fiction (펄프 픽션)\n",
      "7. Forrest Gump (포레스트 검프)\n",
      "8. The Avengers (어벤져스)\n",
      "9. La La Land (라라랜드)\n",
      "10. Joker (조커)\n",
      "messages의 상태 : [{'role': 'user', 'content': '영화 TOP10을 뽑아봐.'}, {'role': 'assistant', 'content': '1. Parasite (기생충)\\n2. The Dark Knight (다크 나이트)\\n3. Inception (인셉션)\\n4. Shawshank Redemption (쇼생크 탈출)\\n5. The Godfather (대부)\\n6. Pulp Fiction (펄프 픽션)\\n7. Forrest Gump (포레스트 검프)\\n8. The Avengers (어벤져스)\\n9. La La Land (라라랜드)\\n10. Joker (조커)'}]\n",
      "영화 '기생충'은 한국 감독 봉준호가 연출한 작품으로, 사회적 계급과 억압을 다룬 영화입니다. 가난한 가족이 부유한 가족을 속여 가족 구성원 하나씩 가정에 침입해가며 벌어지는 이야기를 그립니다. 영화는 유쾌한 재미와 놀랄만한 전개로 관객들에게 강한 메시지를 전달하며 국내외에서 큰 주목을 받았습니다.\n",
      "messages의 상태 : [{'role': 'user', 'content': '영화 TOP10을 뽑아봐.'}, {'role': 'assistant', 'content': '1. Parasite (기생충)\\n2. The Dark Knight (다크 나이트)\\n3. Inception (인셉션)\\n4. Shawshank Redemption (쇼생크 탈출)\\n5. The Godfather (대부)\\n6. Pulp Fiction (펄프 픽션)\\n7. Forrest Gump (포레스트 검프)\\n8. The Avengers (어벤져스)\\n9. La La Land (라라랜드)\\n10. Joker (조커)'}, {'role': 'user', 'content': '뽑은 내용의 1번에 대해 간략히 섦여해줘.'}, {'role': 'assistant', 'content': \"영화 '기생충'은 한국 감독 봉준호가 연출한 작품으로, 사회적 계급과 억압을 다룬 영화입니다. 가난한 가족이 부유한 가족을 속여 가족 구성원 하나씩 가정에 침입해가며 벌어지는 이야기를 그립니다. 영화는 유쾌한 재미와 놀랄만한 전개로 관객들에게 강한 메시지를 전달하며 국내외에서 큰 주목을 받았습니다.\"}]\n"
     ]
    }
   ],
   "source": [
    "messages = []\n",
    "while True:\n",
    "    text = input(\"사용자 (종료 : q) >>> \")\n",
    "    \n",
    "    # 종료 조건\n",
    "    if text.lower() in ['q', 'ㅂ']:\n",
    "        break\n",
    "    messages.append(\n",
    "        {\n",
    "            \"role\": \"user\",\n",
    "            \"content\": text\n",
    "        }\n",
    "    )\n",
    "    # GPT 모델 chat request\n",
    "    completion = client.chat.completions.create(\n",
    "        model=\"gpt-3.5-turbo\",\n",
    "        messages=messages,\n",
    "    )\n",
    "\n",
    "    #gpt 모델 챗 response출력\n",
    "\n",
    "    chat_response = completion.choices[0].message.content\n",
    "    print(chat_response)\n",
    "\n",
    "    messages.append(\n",
    "        {\n",
    "            \"role\":\"assistant\",\n",
    "            \"content\":chat_response\n",
    "        }\n",
    "    )\n",
    "    print(f'messages의 상태 : {messages}')"
   ]
  },
  {
   "cell_type": "code",
   "execution_count": null,
   "id": "5831717f",
   "metadata": {},
   "outputs": [],
   "source": [
    "# 챗봇은 답변한 내용을 서버에 기억해놓지 않음\n",
    "# 사용한 프롬프트\n"
   ]
  },
  {
   "cell_type": "markdown",
   "id": "cbdd84ef",
   "metadata": {},
   "source": [
    "## AI GPT 모델 대화 실행 테스트"
   ]
  },
  {
   "cell_type": "code",
   "execution_count": 24,
   "id": "7fba1f30",
   "metadata": {},
   "outputs": [],
   "source": [
    "movie_prompt = \"\"\"당신은 영화 추천을 위해 훈련된 고도로 숙련된 AI입니다.\n",
    "내가 입력한 단어 또는 문장을 기반으로 영화를 추천해야 합니다.\n",
    "내가 입력한 단어 또는 문장에는 나의 관심사와 성별, 연령대, 지역 등의 개인정보가 포함될 수 있습니다.\n",
    "내가 어떤 영화의 제목을 입력하면 유사한 장르의 영화를 추천하세요.\n",
    "감독 또는 배우의 이름을 입력하면 그 배우가 참여한 다른 영화를 추천하세요.\n",
    "개인정보를 입력하면 그 그룹에서 인기있는 영화를 추천하세요.\n",
    "영화 추천은 3편~5편을 해주고, 목록 형식으로 추천해주세요.\n",
    "항상 마지막에 `더 많은 정보를 입력하겠습니까?`을 출력해서 영화 추천을 계속 할 지 말지를 결정할 수 있도록 해야 합니다.\n",
    "\"\"\""
   ]
  },
  {
   "cell_type": "code",
   "execution_count": 25,
   "id": "92300b31",
   "metadata": {},
   "outputs": [],
   "source": [
    "# chat ai 모델에 요청 및 응답 받기\n",
    "completion = client.chat.completions.create(\n",
    "    model=\"gpt-3.5-turbo\",\n",
    "    messages=[\n",
    "        {\"role\":\"system\",\"content\":\"너는 영화 평론가야\"},\n",
    "        {\"role\":\"user\",\"content\": movie_prompt}\n",
    "    ]\n",
    ")"
   ]
  },
  {
   "cell_type": "code",
   "execution_count": 26,
   "id": "864f19eb",
   "metadata": {},
   "outputs": [
    {
     "name": "stdout",
     "output_type": "stream",
     "text": [
      "알겠어요! 시작해볼까요?\n",
      "\n",
      "1. 만약 당신이 '인셉션'을 좋아한다면 비슷한 장르의 영화를 추천해드릴게요:\n",
      "   - 인터스텔라\n",
      "   - 드래곤 타투\n",
      "   - 매트릭스\n",
      "   - 더 놀라운 아내\n",
      "   - 로스트 인 스페이스\n",
      "\n",
      "2. 만약 당신이 '레오나르도 디카프리오'를 좋아한다면 그가 출연한 다른 영화를 추천해드릴게요:\n",
      "   - 타이타닉\n",
      "   - 더 리버런트\n",
      "   - 캣쳐 미 이프 유 캔\n",
      "   - 살인의 추억\n",
      "   - 연가시\n",
      "\n",
      "3. 만약 당신이 특정 장르나 배우, 감독에 대한 정보를 입력하지 않는다면 이번에는 한국 영화로 추천을 해볼게요:\n",
      "   - 기생충\n",
      "   - 백두산\n",
      "   - 사도\n",
      "   - 해운대\n",
      "   - 해피 엔드\n",
      "\n",
      "더 많은 정보를 입력하겠습니까?\n"
     ]
    }
   ],
   "source": [
    "print(completion.choices[0].message.content)"
   ]
  },
  {
   "cell_type": "code",
   "execution_count": 27,
   "id": "3fc0d5af",
   "metadata": {},
   "outputs": [],
   "source": [
    "completion = client.chat.completions.create(\n",
    "    model=\"gpt-4\",\n",
    "    messages=[\n",
    "        {\"role\":\"system\",\"content\":\"너는 영화 평론가야\"},\n",
    "        {\"role\":\"user\",\"content\": movie_prompt}\n",
    "    ]\n",
    ")"
   ]
  },
  {
   "cell_type": "code",
   "execution_count": 28,
   "id": "a60571dd",
   "metadata": {},
   "outputs": [
    {
     "name": "stdout",
     "output_type": "stream",
     "text": [
      "물론이죠. 제가 도와드리겠습니다. 어떠한 정보를 바탕으로 영화를 추천드릴까요?\n"
     ]
    }
   ],
   "source": [
    "print(completion.choices[0].message.content)"
   ]
  },
  {
   "cell_type": "markdown",
   "id": "e4231e18",
   "metadata": {},
   "source": [
    "## 개인화된 영화 추천 챗봇\n",
    "- 멀티턴 챗봇\n",
    "- None Stream 형태"
   ]
  },
  {
   "cell_type": "code",
   "execution_count": 29,
   "id": "d64db270",
   "metadata": {},
   "outputs": [
    {
     "name": "stdout",
     "output_type": "stream",
     "text": [
      "30대가 주말에 즐길 만한 코믹 영화 추천드립니다:\n",
      "\n",
      "1. **스파이** (2015) - 멜리사 맥카시가 주연한 액션 코미디로, 일상적인 책상 직원에서 국제 스파이로 변신하는 이야기를 유쾌하게 담고 있습니다.\n",
      "2. **행오버** (2009) - 친구들과 함께 라스베이거스로 배낭여행을 간 후 기억을 잃고 벌어지는 소동을 그린 영화로, 웃음과 흥미진진한 상황이 가득합니다.\n",
      "3. **브라이즈메이즈** (2011) - 결혼식의 메이드 오브 아너가 되기 위해 치열한 경쟁을 벌이는 여성들의 이야기로, 코미디와 현실적인 여성 우정을 잘 그려냈습니다.\n",
      "4. **나우 유 씨 미** (2013) - 마술사 그룹이 대형 범죄를 벌이며 벌어지는 이야기로, 코믹 요소와 함께 흥미진진한 플롯이 돋보이는 영화입니다.\n",
      "5. **슈퍼배드** (2010) - 악당이 주인공인 이 애니메이션은 모든 연령대에 걸쳐 유머가 가득하며, 가족이 함께 보기에 좋은 영화입니다.\n",
      "\n",
      "더 많은 정보를 입력하겠습니까?\n",
      "보인다고 입력 내용이 없는 것 같습니다. 추가적으로 더 도움이 필요하신 경우, 질문이나 요구 사항을 말씀해 주세요!\n",
      "\n",
      "더 많은 정보를 입력하겠습니까?\n",
      "조금 오해가 있는 것 같습니다. 무엇이든 물어보고 싶은 내용이 있다면 자유롭게 말씀해 주세요. 여기 도와드릴 준비가 되어 있습니다!\n",
      "\n",
      "더 많은 정보를 입력하겠습니까?\n",
      "보이지 않는 메시지가 계속 전달되는 것 같습니다. 다시 한 번 메시지를 입력하거나, 필요한 도움이 있는지 알려주십시오.\n",
      "\n",
      "더 많은 정보를 입력하겠습니까?\n",
      "90년대에는 다양한 장르에서 많은 인기 영화들이 제작되었습니다. 다음은 90년대의 대표적인 영화들입니다:\n",
      "\n",
      "1. **쥬라기 공원** (1993) - 스티븐 스필버그 감독의 공룡을 소재로 한 획기적인 SF 어드벤처 영화입니다.\n",
      "2. **타이타닉** (1997) - 제임스 카메론 감독의 역사적인 로맨스 재난 영화로, 레오나르도 디카프리오와 케이트 윈슬렛이 주연을 맡았습니다.\n",
      "3. **매트릭스** (1999) - 혁신적인 특수 효과와 깊이 있는 스토리로 SF 액션 장르의 새 지평을 열었습니다.\n",
      "4. **포레스트 검프** (1994) - 톰 행크스 주연의 이 영화는 한 남자의 간결하지만 깊이 있는 삶의 이야기를 담고 있으며, 많은 상을 수상했습니다.\n",
      "5. **냉정과 열정 사이** (1997) - 인간 속성에 대한 깊은 탐구를 보여주는 애니메이션으로, 문화적으로도 큰 반향을 일으켰습니다.\n",
      "\n",
      "이 영화들은 대부분 장르가 다양하며 90년대의 시대적 분위기를 잘 반영하고 있습니다. 어떤 장르가 특히 마음에 드시는지 추가로 말씀해 주시면 더 상세한 추천이 가능합니다.\n",
      "\n",
      "더 많은 정보를 입력하겠습니까?\n"
     ]
    }
   ],
   "source": [
    "\n",
    "\n",
    "messages = [{\"role\": \"system\", \"content\": movie_prompt}]\n",
    "\n",
    "while True:\n",
    "    text = input(\"관심사 또는 개인정보를 입력하세요. (종료: 'q'): \")\n",
    "    if text.lower() in ['q', 'ㅂ']:\n",
    "        break\n",
    "\n",
    "    messages.append({\"role\": \"user\", \"content\": text})\n",
    "    response = client.chat.completions.create(\n",
    "        model=\"gpt-4-turbo\",\n",
    "        messages=messages,\n",
    "        stream=False  # 스트리밍 비활성화\n",
    "    )\n",
    "\n",
    "    full_reply = response.choices[0].message.content  # 전체 응답을 한 번에 가져옴\n",
    "    print(full_reply)\n",
    "\n",
    "    messages.append({\"role\": \"assistant\", \"content\": full_reply})"
   ]
  },
  {
   "cell_type": "markdown",
   "id": "9aaa525d",
   "metadata": {},
   "source": [
    "30대 코믹 주말 영화\n",
    "90년대 영화는?"
   ]
  },
  {
   "cell_type": "code",
   "execution_count": 30,
   "id": "81146e56",
   "metadata": {},
   "outputs": [
    {
     "name": "stdout",
     "output_type": "stream",
     "text": [
      "30대에게 적합하고 코믹 장르의 영화를 추천해드릴게요. 주말에 가볍게 즐길 수 있는 영화들입니다:\n",
      "\n",
      "1. **슈퍼배드** (2010) - 평범한 삶을 꿈꾸는 슈퍼 악당 그루와 그의 귀여운 미니언들의 모험을 그린 애니메이션.\n",
      "2. **나우 유 씨 미** (2013) - 마술사 그룹이 저지르는 기발한 마술 트릭을 통해 은행을 터는 이야기로, 활동적이고 똑똑한 플롯이 매력적인 영화.\n",
      "3. **행오버** (2009) - 친구들과 라스베이거스에서 결혼 전 파티를 즐기지만, 다음 날 아무것도 기억하지 못하는 네 친구의 이야기.\n",
      "4. **위조지폐범** (2022) - 평범한 중년의 남자가 우연히 위조지폐 세계에 발을 들여 놓으며 벌어지는 웃음과 감동의 코미디.\n",
      "5. **미션 임파서블: 로그 네이션** (2015) - 액션과 코미디가 적절히 섞인 이 시리즈는 평일의 스트레스를 날려버리기에 충분합니다.\n",
      "\n",
      "많은 사람들이 주말에 가볍게 웃으며 즐길 수 있는 영화들입니다. 재미있게 보시길 바랍니다!\n",
      "더 많은 정보를 입력하겠습니까?90년대 영화는 독특하고 다양한 장르의 수작들이 많았기 때문에 여러 가지 스타일을 즐길 수 있습니다. 다음은 90년대를 대표하는 인기 영화들입니다:\n",
      "\n",
      "1. **쥬라기 공원** (1993) - 스티븐 스필버그 감독이 만든 다이노소어와 인간의 대결을 그린 모험 및 공포 영화.\n",
      "2. **포레스트 검프** (1994) - 간단치 않은 정신을 가진 남자가 미국 현대사를 경험하며 벌어지는 일들을 담은 드라마.\n",
      "3. **매트릭스** (1999) - 가상 현실과 현실 세계 사이를 오가며 벌어지는 미래적 액션 영화.\n",
      "4. **타이타닉** (1997) - 역사적인 타이타닉 호의 참사를 배경으로 한 로맨틱 드라마.\n",
      "5. **센트 오브 어 우먼** (1992) - 맹인 퇴역 군인과 대학생 보조의 우정을 그린 드라마.\n",
      "\n",
      "이 영화들은 90년대의 다양한 감성과 기술적 발전을 잘 보여주며, 지금 봐도 여전히 많은 사랑을 받고 있는 작품들입니다.\n",
      "더 많은 정보를 입력하겠습니까?1997년에 개봉한 **타이타닉**은 제임스 카메론 감독이 만든 영화로, 1912년의 실제 사건인 타이타닉 호의 침몰 사건을 배경으로 하고 있습니다. 이 영화는 첫사랑과 비극적인 운명을 다루며, 두 주인공인 잭(레오나르도 디캐프리오 분)과 로즈(케이트 윈슬렛 분)의 로맨스를 중심으로 전개됩니다. 타이타닉 호의 처녀 항해 동안, 잭과 로즈는 서로에게 빠져들지만, 그들의 사랑은 배의 침몰과 사회적 계급의 차이로 인해 위협받습니다. 영화는 스펙터클한 재난 장면과 진실한 인간 감정의 교차를 통해 관객에게 강렬한 인상을 남깁니다.\n",
      "\n",
      "더 많은 정보를 입력하겠습니까?"
     ]
    }
   ],
   "source": [
    "messages = [{\"role\": \"system\", \"content\": movie_prompt}] # 프롬프트 설정\n",
    "text = input(\"당신의 관심사 또는 개인정보(성별, 연령대 등)을 입력하세요.(종료는 `q` 입력): \")\n",
    "while True:\n",
    "    if text.lower() in ['q', 'ㅂ']: break # `q`, `Q`, `ㅂ`중 하나를 입력하면 종료\n",
    "    messages.append({\"role\":\"user\", \"content\":text}) # 관심정보를 메시지에 추가\n",
    "    response = client.chat.completions.create(\n",
    "        model=\"gpt-4-turbo\",\n",
    "        messages=messages,\n",
    "        stream=True # 스트리밍 응답\n",
    "    )\n",
    "    collected_messages = [] # 전체 응답을 저장할 리스트\n",
    "    for chunk in response:\n",
    "        chunk_message = chunk.choices[0].delta.content      # 청크 메시지 추출\n",
    "        collected_messages.append(chunk_message)\n",
    "        if(chunk_message==None): \n",
    "            text = input(\"추가정보 입력(종료는 `q`): \")\n",
    "        else:\n",
    "            print(f\"{chunk_message}\", end='')\n",
    "    collected_messages = [m for m in collected_messages if m is not None] # None아닌 메시지를 뽑아냄\n",
    "    full_reply_content = ''.join([m for m in collected_messages]) # 모든 청크 메시지를 연결\n",
    "\n",
    "    messages.append({\"role\":\"assistant\", \"content\": full_reply_content}) # 응답 메시지를 assistant에 저장"
   ]
  },
  {
   "cell_type": "code",
   "execution_count": null,
   "id": "7a8ecc7c",
   "metadata": {},
   "outputs": [],
   "source": []
  }
 ],
 "metadata": {
  "kernelspec": {
   "display_name": "llm_env",
   "language": "python",
   "name": "python3"
  },
  "language_info": {
   "codemirror_mode": {
    "name": "ipython",
    "version": 3
   },
   "file_extension": ".py",
   "mimetype": "text/x-python",
   "name": "python",
   "nbconvert_exporter": "python",
   "pygments_lexer": "ipython3",
   "version": "3.10.19"
  }
 },
 "nbformat": 4,
 "nbformat_minor": 5
}
