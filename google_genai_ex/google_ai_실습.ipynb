{
 "cells": [
  {
   "cell_type": "code",
   "execution_count": 13,
   "id": "3c3b3eb2",
   "metadata": {},
   "outputs": [],
   "source": [
    "from dotenv import load_dotenv\n",
    "import os\n",
    "\n",
    "# 환경변수 로딩\n",
    "load_dotenv(\"../.env\", override=True)\n",
    "\n",
    "# 메모리에 로딩된 값을 api_key 변수에 대입\n",
    "GEMINI_API_KEY = os.environ.get(\"GEMINI_API_KEY\")\n",
    "# print(GEMINI_API_KEY)\n",
    "# OpenAI 객체 생성\n",
    "# client = OpenAI(api_key=GEMINI_KEY)"
   ]
  },
  {
   "cell_type": "markdown",
   "id": "c65f27c9",
   "metadata": {},
   "source": [
    "## 이미지 생성"
   ]
  },
  {
   "cell_type": "code",
   "execution_count": 14,
   "id": "33eaf514",
   "metadata": {},
   "outputs": [
    {
     "name": "stdout",
     "output_type": "stream",
     "text": [
      "두 연인이 잔잔한 호숫가를 나란히 걷는 모습입니다. 따스한 햇살이 부드럽게 두 사람을 감싸고, 호수 표면에는 햇빛이 반짝이며 잔잔한 물결이 일렁입니다. 주변에는 푸른 나무들과 풀들이 자연스러운 풍경을 이루고 있습니다.\n",
      "\n",
      "\n"
     ]
    }
   ],
   "source": [
    "from google import genai\n",
    "from google.genai import types\n",
    "from PIL import Image\n",
    "from io import BytesIO\n",
    "import base64\n",
    "\n",
    "client = genai.Client(api_key=GEMINI_API_KEY)\n",
    "\n",
    "contents = ('두 연인이 호수가를 걷고 있고, 햇살이 비치고 있는 장면을 그려줘')\n",
    "\n",
    "response = client.models.generate_content(\n",
    "    model=\"gemini-2.0-flash-preview-image-generation\",\n",
    "    contents=contents,\n",
    "    config=types.GenerateContentConfig(\n",
    "      response_modalities=['TEXT', 'IMAGE']\n",
    "    )\n",
    ")\n",
    "\n",
    "for part in response.candidates[0].content.parts:\n",
    "  if part.text is not None:\n",
    "    print(part.text)\n",
    "  elif part.inline_data is not None:\n",
    "    image = Image.open(BytesIO((part.inline_data.data)))\n",
    "    image.save('gemini-native-image.png')\n",
    "    image.show()"
   ]
  },
  {
   "cell_type": "markdown",
   "id": "c94ce645",
   "metadata": {},
   "source": [
    "## 이미지 편집"
   ]
  },
  {
   "cell_type": "code",
   "execution_count": 16,
   "id": "e50d15e9",
   "metadata": {},
   "outputs": [
    {
     "name": "stdout",
     "output_type": "stream",
     "text": [
      "I will add a fluffy, white llama standing calmly next to you in the grassy field, looking in the same direction you are.\n",
      "\n",
      "\n"
     ]
    }
   ],
   "source": [
    "from google import genai\n",
    "from google.genai import types\n",
    "from PIL import Image\n",
    "from io import BytesIO\n",
    "\n",
    "import PIL.Image\n",
    "\n",
    "image = PIL.Image.open('./imgs/lady.jpg')\n",
    "\n",
    "client = genai.Client(api_key=GEMINI_API_KEY)\n",
    "\n",
    "text_input = ('Hi, This is a picture of me.'\n",
    "            'Can you add a llama next to me?',)\n",
    "\n",
    "response = client.models.generate_content(\n",
    "    model=\"gemini-2.0-flash-preview-image-generation\",\n",
    "    contents=[text_input, image],\n",
    "    config=types.GenerateContentConfig(\n",
    "      response_modalities=['TEXT', 'IMAGE']\n",
    "    )\n",
    ")\n",
    "\n",
    "for part in response.candidates[0].content.parts:\n",
    "  if part.text is not None:\n",
    "    print(part.text)\n",
    "  elif part.inline_data is not None:\n",
    "    image = Image.open(BytesIO(part.inline_data.data))\n",
    "    image.show()"
   ]
  },
  {
   "cell_type": "code",
   "execution_count": 17,
   "id": "2d421b1c",
   "metadata": {},
   "outputs": [],
   "source": [
    " image.save('gemini-edited-image.png')"
   ]
  },
  {
   "cell_type": "markdown",
   "id": "2e9b1d29",
   "metadata": {},
   "source": [
    "## 유투브 요약"
   ]
  },
  {
   "cell_type": "code",
   "execution_count": null,
   "id": "d67e9670",
   "metadata": {},
   "outputs": [],
   "source": [
    "\n",
    "\n",
    "from google import genai\n",
    "\n",
    "client = genai.Client(api_key=GEMINI_API_KEY)\n",
    "\n",
    "response = client.models.generate_content(\n",
    "    model='models/gemini-2.0-flash',\n",
    "    contents=types.Content(\n",
    "        parts=[\n",
    "            types.Part(\n",
    "                # file_data=types.FileData(file_uri='https://www.youtube.com/watch?v=9hE5-98ZeCg')\n",
    "                file_data=types.FileData(file_uri='https://youtu.be/Spv9ICBY3c8?si=2xDvlBseIW4yuPIb')\n",
    "            ),\n",
    "            types.Part(text='5개의 문장으로 요약해줘')\n",
    "        ]\n",
    "    )\n",
    ")"
   ]
  }
 ],
 "metadata": {
  "kernelspec": {
   "display_name": "llm_env",
   "language": "python",
   "name": "python3"
  },
  "language_info": {
   "codemirror_mode": {
    "name": "ipython",
    "version": 3
   },
   "file_extension": ".py",
   "mimetype": "text/x-python",
   "name": "python",
   "nbconvert_exporter": "python",
   "pygments_lexer": "ipython3",
   "version": "3.10.19"
  }
 },
 "nbformat": 4,
 "nbformat_minor": 5
}
